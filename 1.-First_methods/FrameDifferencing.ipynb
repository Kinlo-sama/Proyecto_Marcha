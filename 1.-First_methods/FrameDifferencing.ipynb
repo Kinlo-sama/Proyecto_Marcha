{
 "cells": [
  {
   "cell_type": "code",
   "execution_count": 1,
   "metadata": {},
   "outputs": [],
   "source": [
    "import cv2 \n",
    "import numpy as np"
   ]
  },
  {
   "cell_type": "code",
   "execution_count": 2,
   "metadata": {},
   "outputs": [],
   "source": [
    "#Funcion para el trackbar \n",
    "def nothing(x):\n",
    "    pass\n",
    "#nombrando al trackbar \n",
    "cv2.namedWindow('diff')\n",
    "\n",
    "#Creando trackbar para valores para ser restados\n",
    "cv2.createTrackbar('min_val', 'diff', 0, 255, nothing)\n",
    "cv2.createTrackbar('max_val', 'diff', 0, 255, nothing)\n",
    "\n",
    "#Leemos conjunto de imagenes o un video \n",
    "cap = cv2.VideoCapture(\"../Persona8/persona8_9_f.webm\")\n",
    "_,frame = cap.read()\n",
    "\n",
    "#convertirmos la imagen a una imagen escala de grises\n",
    "image1 = cv2.cvtColor(frame, cv2.COLOR_BGR2GRAY)\n",
    "\n",
    "#Obtenemos dimensiones del video \n",
    "row, col = image1.shape\n",
    "res = np.zeros([row, col, 1], np.uint8)\n",
    "\n",
    "a = np.uint8([255])\n",
    "b = np.uint8([0])\n",
    "\n",
    "fps = cap.get(cv2.CAP_PROP_FPS)\n",
    "#Guardaremos el video en \n",
    "out = cv2.VideoWriter(\"personaFrameDifferencing.avi\", cv2.VideoWriter_fourcc(*'XVID'), fps, (col, row), isColor=False)\n",
    "\n",
    "while True:\n",
    "    _,image2 = cap.read()\n",
    "    if image2 is None:\n",
    "        break\n",
    "    image2 = cv2.cvtColor(image2, cv2.COLOR_BGR2GRAY)\n",
    "    min_val = cv2.getTrackbarPos('min_val', 'diff')\n",
    "    max_val = cv2.getTrackbarPos('max_val', 'diff')\n",
    "\n",
    "    res = cv2.absdiff(image1,image2)\n",
    "    #edges = cv2.Canny(image2, 10, 100)\n",
    "\n",
    "    cv2.imshow('image', res)\n",
    "    out.write(res)\n",
    "    res = np.where((min_val < res) & (max_val > res), a,b)\n",
    "    res = cv2.bitwise_and(image2,image2, mask=res)\n",
    "\n",
    "    cv2.imshow('diff', res)\n",
    "\n",
    "    image1 = image2\n",
    "\n",
    "    #guardamos el frame \n",
    "\n",
    "\n",
    "    if cv2.waitKey(1) & 0xFF == 27:\n",
    "        break\n",
    "\n",
    "\n",
    "out.release()\n",
    "cap.release()\n",
    "cv2.destroyAllWindows()"
   ]
  }
 ],
 "metadata": {
  "kernelspec": {
   "display_name": "base",
   "language": "python",
   "name": "python3"
  },
  "language_info": {
   "codemirror_mode": {
    "name": "ipython",
    "version": 3
   },
   "file_extension": ".py",
   "mimetype": "text/x-python",
   "name": "python",
   "nbconvert_exporter": "python",
   "pygments_lexer": "ipython3",
   "version": "3.12.3"
  }
 },
 "nbformat": 4,
 "nbformat_minor": 2
}
