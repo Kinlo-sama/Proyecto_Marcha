{
 "cells": [
  {
   "cell_type": "code",
   "execution_count": 1,
   "metadata": {},
   "outputs": [],
   "source": [
    "import cv2\n",
    "import numpy as np "
   ]
  },
  {
   "cell_type": "code",
   "execution_count": 4,
   "metadata": {},
   "outputs": [
    {
     "name": "stderr",
     "output_type": "stream",
     "text": [
      "OpenCV: FFMPEG: tag 0x44495658/'XVID' is not supported with codec id 12 and format 'mp4 / MP4 (MPEG-4 Part 14)'\n",
      "OpenCV: FFMPEG: fallback to use tag 0x7634706d/'mp4v'\n"
     ]
    }
   ],
   "source": [
    "# creating video element\n",
    "cap = cv2.VideoCapture(\"Persona8/persona8_9_f.webm\")\n",
    "_,frame = cap.read()\n",
    "\n",
    "# getting shape of the frame\n",
    "row,col,channel = frame.shape\n",
    "\n",
    "# initialising background and foreground\n",
    "background = np.zeros([row,col],np.uint8)\n",
    "foreground = np.zeros([row,col],np.uint8)\n",
    "\n",
    "# converting data type of intergers 0 and 255 to uint8 type\n",
    "a = np.uint8([255])\n",
    "b = np.uint8([0])\n",
    "\n",
    "# creating kernel for removing noise\n",
    "kernel = np.ones([3,3],np.uint8)\n",
    "\n",
    "fps = cap.get(cv2.CAP_PROP_FPS)\n",
    "out = cv2.VideoWriter('personaMedianAproximation.mp4', cv2.VideoWriter_fourcc(*'XVID'), fps, (col, row), isColor=False)\n",
    "\n",
    "while cap.isOpened() :\n",
    "\n",
    "    _,frame1 = cap.read()\n",
    "    if frame1 is None:\n",
    "        break\n",
    "    frame = cv2.cvtColor(frame1,cv2.COLOR_BGR2GRAY)\n",
    "    \n",
    "    # applying algorithm of median approximation method to get estimated background\n",
    "    background = np.where(frame>background,background+1,background-1)\n",
    "\n",
    "    # using cv2.absdiff instead of background - frame, because 1 - 2 will give 255 which is not expected\n",
    "    foreground = cv2.absdiff(background,frame)\n",
    "    \n",
    "    # setting a threshold value for removing noise and getting foreground\n",
    "    foreground = np.where(foreground>40,a,b)\n",
    "    \n",
    "    # removing noise\n",
    "    foreground = cv2.erode(foreground,kernel)\n",
    "    foreground = cv2.dilate(foreground,kernel)\n",
    "    # using bitwise and to get colored foreground\n",
    "    foreground = cv2.bitwise_and(frame1,frame1,mask=foreground)\n",
    "    cv2.imshow('background',background)\n",
    "    cv2.imshow('foreground',foreground)\n",
    "    out.write(background)\n",
    "    if cv2.waitKey(1) & 0xFF == 27:\n",
    "        break\n",
    "\n",
    "out.release()\n",
    "cap.release()\n",
    "cv2.destroyAllWindows()"
   ]
  }
 ],
 "metadata": {
  "kernelspec": {
   "display_name": "base",
   "language": "python",
   "name": "python3"
  },
  "language_info": {
   "codemirror_mode": {
    "name": "ipython",
    "version": 3
   },
   "file_extension": ".py",
   "mimetype": "text/x-python",
   "name": "python",
   "nbconvert_exporter": "python",
   "pygments_lexer": "ipython3",
   "version": "3.12.3"
  }
 },
 "nbformat": 4,
 "nbformat_minor": 2
}
