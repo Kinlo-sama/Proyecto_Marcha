{
 "cells": [
  {
   "cell_type": "code",
   "execution_count": 1,
   "metadata": {},
   "outputs": [],
   "source": [
    "import cv2\n",
    "import numpy as np"
   ]
  },
  {
   "cell_type": "code",
   "execution_count": 10,
   "metadata": {},
   "outputs": [
    {
     "name": "stderr",
     "output_type": "stream",
     "text": [
      "OpenCV: FFMPEG: tag 0x44495658/'XVID' is not supported with codec id 12 and format 'mp4 / MP4 (MPEG-4 Part 14)'\n",
      "OpenCV: FFMPEG: fallback to use tag 0x7634706d/'mp4v'\n"
     ]
    }
   ],
   "source": [
    "def nothing(x):\n",
    "\tpass\n",
    "\n",
    "cap = cv2.VideoCapture(\"Persona8/persona8_9_f.webm\")\n",
    "images = []\n",
    "_,frame = cap.read()\n",
    "\n",
    "cv2.namedWindow('tracker')\n",
    "cv2.createTrackbar('val','tracker',50,255,nothing)\n",
    "\n",
    "row,col,channel = frame.shape\n",
    "fps = cap.get(cv2.CAP_PROP_FPS)\n",
    "\n",
    "out = cv2.VideoWriter('personaMean.mp4', cv2.VideoWriter_fourcc(*'XVID'), fps, (col, row), isColor=False)\n",
    "\n",
    "\n",
    "while True:\n",
    "\t\n",
    "\tret,frame = cap.read()\n",
    "\tif frame is None or ret is None:\n",
    "\t\tbreak\n",
    "\tcv2.imshow('image',frame)\n",
    "        #converting images into grayscale       \n",
    "\tframe_gray = cv2.cvtColor(frame,cv2.COLOR_BGR2GRAY)\n",
    "    \n",
    "\timages.append(frame_gray)\n",
    "\t# removing the images after every 50 image\n",
    "\tif len(images)==50:\n",
    "\t\timages.pop(0)\n",
    "\t\n",
    "\timage=np.array(images)\t\t\n",
    "\t# gettting the tracker value\n",
    "\tval = cv2.getTrackbarPos('val','tracker')\n",
    "\timage = np.mean(image,axis=0)\n",
    "\timage = image.astype(np.uint8)\n",
    "\tcv2.imshow('background',image)\n",
    "\timage = image.astype(np.uint8)\n",
    "\t# foreground will be background - curr frame\n",
    "\tforeground_image = cv2.absdiff(frame_gray,image)\n",
    "\n",
    "\ta = np.array([0],np.uint8)\n",
    "\tb = np.array([255],np.uint8)\n",
    "\n",
    "\timg = np.where(foreground_image>val,frame_gray,a)\n",
    "\tcv2.imshow('foreground',img)\n",
    "\tout_video = img\n",
    "\tout.write(out_video)\n",
    "\tif cv2.waitKey(1) & 0xFF == 27:\n",
    "\t\tbreak\n",
    "\n",
    "\n",
    "out.release()\n",
    "cap.release()\n",
    "\n",
    "cv2.destroyAllWindows()\t"
   ]
  }
 ],
 "metadata": {
  "kernelspec": {
   "display_name": "base",
   "language": "python",
   "name": "python3"
  },
  "language_info": {
   "codemirror_mode": {
    "name": "ipython",
    "version": 3
   },
   "file_extension": ".py",
   "mimetype": "text/x-python",
   "name": "python",
   "nbconvert_exporter": "python",
   "pygments_lexer": "ipython3",
   "version": "3.12.3"
  }
 },
 "nbformat": 4,
 "nbformat_minor": 2
}
