{
 "cells": [
  {
   "cell_type": "code",
   "execution_count": 1,
   "metadata": {},
   "outputs": [],
   "source": [
    "import cv2\n",
    "import numpy as np"
   ]
  },
  {
   "cell_type": "code",
   "execution_count": 3,
   "metadata": {},
   "outputs": [
    {
     "name": "stderr",
     "output_type": "stream",
     "text": [
      "OpenCV: FFMPEG: tag 0x44495658/'XVID' is not supported with codec id 12 and format 'mp4 / MP4 (MPEG-4 Part 14)'\n",
      "OpenCV: FFMPEG: fallback to use tag 0x7634706d/'mp4v'\n"
     ]
    }
   ],
   "source": [
    "\n",
    "\n",
    "cap = cv2.VideoCapture(\"Persona8/persona8_9_f.webm\")\n",
    "ret,mean = cap.read()\n",
    "mean =cv2.cvtColor(mean,cv2.COLOR_BGR2GRAY)\n",
    "\n",
    "_, frame = cap.read()\n",
    "\n",
    "(col,row) = mean.shape[:2]\n",
    "\n",
    "fila, colu, canal = frame.shape\n",
    "fps = cap.get(cv2.CAP_PROP_FPS)\n",
    "out = cv2.VideoWriter('personaSingleGaussin.mp4', cv2.VideoWriter_fourcc(*'XVID'), fps, (colu, fila), isColor=False)\n",
    "\n",
    "var = np.ones((col,row),np.uint8)\n",
    "var[:col,:row] = 150\n",
    "count =0\n",
    "while True:\n",
    "\n",
    "        ret,frame = cap.read()   \n",
    "\n",
    "        if frame is None or ret is None:\n",
    "            break\n",
    "\n",
    "        frame_gray = cv2.cvtColor(frame,cv2.COLOR_BGR2GRAY)  \n",
    "        \n",
    "        alpha =0.25\n",
    "        \n",
    "        new_mean = (1-alpha)*mean + alpha*frame_gray       \n",
    "        new_mean = new_mean.astype(np.uint8)\n",
    "        new_var = (alpha)*(cv2.subtract(frame_gray,mean)**2) + (1-alpha)*(var)\n",
    "       \n",
    "        value  = cv2.absdiff(frame_gray,mean)\n",
    "        value = value /np.sqrt(var)\n",
    "       \n",
    "        \n",
    "        mean = np.where(value < 2.5,new_mean,mean)\n",
    "        var = np.where(value < 2.5,new_var,var)\n",
    "        a = np.uint8([255])\n",
    "        b = np.uint8([0])\n",
    "        background =np.where(value < 2.5,frame_gray,0)\n",
    "        forground = np.where(value>=2.5,frame_gray,b)\n",
    "        cv2.imshow('background',background)       \n",
    "        kernel = np.ones((3,3),np.uint8)\n",
    "        \n",
    "        erode = cv2.erode(forground,kernel,iterations =2)\n",
    "       # erode = cv2.absdiff(forground,background)\n",
    "             \n",
    "        cv2.imshow('forground',erode)\n",
    "        out.write(erode)\n",
    "\n",
    "        if cv2.waitKey(5) & 0xFF == 27:\n",
    "                break\n",
    "\n",
    "out.release()             \n",
    "cap.release()                \n",
    "cv2.destroyAllWindows()"
   ]
  }
 ],
 "metadata": {
  "kernelspec": {
   "display_name": "base",
   "language": "python",
   "name": "python3"
  },
  "language_info": {
   "codemirror_mode": {
    "name": "ipython",
    "version": 3
   },
   "file_extension": ".py",
   "mimetype": "text/x-python",
   "name": "python",
   "nbconvert_exporter": "python",
   "pygments_lexer": "ipython3",
   "version": "3.12.3"
  }
 },
 "nbformat": 4,
 "nbformat_minor": 2
}
